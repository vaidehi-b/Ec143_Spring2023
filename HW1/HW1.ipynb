{
  "cells": [
    {
      "cell_type": "markdown",
      "metadata": {
        "id": "V7OZtl39xfQ8"
      },
      "source": [
        "<a href=\"https://colab.research.google.com/github/ucbnlp24/hws4nlp24/blob/main/HW1/HW1.ipynb\" target=\"_parent\"><img src=\"https://colab.research.google.com/assets/colab-badge.svg\" alt=\"Open In Colab\"/></a>"
      ]
    },
    {
      "cell_type": "markdown",
      "metadata": {
        "id": "sWnIs8mnq2zb"
      },
      "source": [
        "# Homework 1: Featurized Models for Sentiment Analysis\n",
        "\n",
        "## Introduction\n",
        "\n",
        "In this homework, you will write code that generates features for the positive/negative sentiment classification of movie\n",
        "reviews, and train a model on those features to predict the sentiment of new data. Example of selected movie reviews\n",
        "with labels:\n",
        "\n",
        "| Label | Review\n",
        "| :--- | :------\n",
        "| **pos** | What can I say, it’s a damn good movie. See it if you still haven’t. Great camera works and lighting <br> techniques. Awesome, just awesome.  Orson Welles is incredible ‘The Lady From Shanghai’ can certainly <br> take the place of ‘Citizen Kane’.\n",
        "| **neg** | Can I give this a minus rating? No? Well, let me say that this is the most atrocious film I have ever tried to <br> watch. It was Painful. Boringus Maximus. The plot(?) is well hidden in several sub-levels of <br> nebulosity. I rented this film with a friend and, after about thirty minutes of hoping it would get better, we <br> decided to “fast forward” a little to see if things would get any better. It never gets better. This film about <br> some dude getting kidnapped by these two girls, sounds interesting, but, in reality, it is just a bore. <br> Nothing even remotely interesting ever happens. If you ever get the chance to watch this, do <br> yourself a favor, try “PLAN NINE FROM OUTER SPACE” instead ”  \n",
        "\n",
        "This notebook contains code which performs all the data parsing, model training, and evaluation for you. Once you are in this notebook, **save a copy** in your Google Drive or Github before working on the file.\n",
        "\n",
        "During training, a basic logistic regression model (from the scikit-learn package) is trained with your created features\n",
        "to predict each review’s sentiment. Your ultimate goal for this assignment is to featurize the text creatively and optimize\n",
        "the accuracy of the model on the test data.\n",
        "\n",
        "Your main tasks regarding *classification* are to **implement four features**:\n",
        "1. A bag of words feature. Fill out the **bag_of_words** function in the notebook to represent a document through its bag of words. Represent each **lowercase** word tokenized with the NLTK **word_tokenize** function through its binary value. Remember that the feature value for a word that shows up in a review should be 1, no matter how many times it is mentioned. Please keep your code between the **#BEGIN/#END SOLUTION** flags.\n",
        "2. Create **three** different classes of features. Implement them in the **feature1** **feature2** and **feature3** functions. Create features that you think would perform better than bag of words, and assess their independent performance on the development data. Describe your reasoning in your Colab notebook and include accuracy scores on the dev.txt data (printed in the Colab output). **You must report your reasoning and development scores in the table provided.** It is not required that your features actually perform well, but your justification and reasoning should be defensible. We are looking for thoughtful insights as to why your original features *should* outperform the simple bag of words implementation.\n",
        "\n",
        "For more feature ideas consult [SLP Ch. 5](https://web.stanford.edu/~jurafsky/slp3/5.pdf) and lecture slides, and please do keep the following constraints in mind:\n",
        "\n",
        "* Do not use pre-trained word vectors (including static embeddings like word2vec or contextual embeddings like BERT); we will cover these later.\n",
        "* Do not use the predictions of any other supervised model on this data as a feature for logistic regression (e.g., do not train a separate CNN on this data, make predictions on the dev data using the CNN, and then treat your CNN prediction as a feature).\n",
        "* Do not alter {train,dev,test}.txt or find additional sources of training data. This homework is focusing on how you *represent* your data, not other aspects of the training regime.\n",
        "* Do not import any other additional libraries.\n",
        "\n",
        "After completing classificaion there is a **task** for *evaluation*:\n",
        "1. Fill in the dictionary `param_grid`, to find which L2 regularization strength improves your model the most.\n",
        "\n",
        "The assignment ends with a **reflection**:\n",
        "1. *Short answer* regarding applying assignment concepts to a real world classification evaluation situation."
      ]
    },
    {
      "cell_type": "markdown",
      "metadata": {
        "id": "iZcw-X97q2zc"
      },
      "source": [
        "## How to Submit\n",
        "\n",
        "There are two deliverables to be submitted on Gradescope. Submit to GradeScope [HW 1](https://www.gradescope.com/courses/701350/assignments/3984973):\n",
        "  - Submit `HW1.ipynb`. The name of this file should stay unchanged for the Gradescope autograder.\n",
        "  - Submit `combiner_function_predictions.csv`. The file must be named in this way for the Gradescope autograder."
      ]
    },
    {
      "cell_type": "code",
      "execution_count": null,
      "metadata": {
        "id": "TQTT9x-6d2JI"
      },
      "outputs": [],
      "source": [
        "##################################\n",
        "## Please Do not edit the imports\n",
        "##################################\n",
        "\n",
        "from scipy import sparse\n",
        "from sklearn import linear_model\n",
        "from collections import Counter\n",
        "import operator\n",
        "import nltk\n",
        "import csv\n",
        "from sklearn.metrics import confusion_matrix, ConfusionMatrixDisplay\n",
        "import matplotlib.pyplot as plt\n",
        "import pandas as pd\n",
        "from pandas import option_context"
      ]
    },
    {
      "cell_type": "code",
      "execution_count": null,
      "metadata": {
        "id": "e4KuVSCSqlUX"
      },
      "outputs": [],
      "source": [
        "!python -m nltk.downloader punkt"
      ]
    },
    {
      "cell_type": "markdown",
      "metadata": {
        "id": "yqs2iWGGxfRA"
      },
      "source": [
        "## Intro: Gather Data + Create Classifier"
      ]
    },
    {
      "cell_type": "markdown",
      "metadata": {
        "id": "v9wUSxBPxfRA"
      },
      "source": [
        "### Gather Data"
      ]
    },
    {
      "cell_type": "markdown",
      "metadata": {
        "id": "1Hk07KCgwoZy"
      },
      "source": [
        "Let's download the data we'll use for training and development, and also the data we'll make predictions with."
      ]
    },
    {
      "cell_type": "code",
      "execution_count": null,
      "metadata": {
        "id": "hn0XtfFeqP2P"
      },
      "outputs": [],
      "source": [
        "# Get data\n",
        "!wget https://raw.githubusercontent.com/ucbnlp24/hws4nlp24/main/HW1/train.txt\n",
        "!wget https://raw.githubusercontent.com/ucbnlp24/hws4nlp24/main/HW1/dev.txt\n",
        "!wget https://raw.githubusercontent.com/ucbnlp24/hws4nlp24/main/HW1/test.txt"
      ]
    },
    {
      "cell_type": "code",
      "execution_count": null,
      "metadata": {
        "id": "jq2yq0xpRCUb"
      },
      "outputs": [],
      "source": [
        "trainingFile = \"train.txt\"\n",
        "evaluationFile = \"dev.txt\"\n",
        "testFile = \"test.txt\""
      ]
    },
    {
      "cell_type": "markdown",
      "metadata": {
        "id": "U4K9RsEWxfRB"
      },
      "source": [
        "### Define Classifier class"
      ]
    },
    {
      "cell_type": "markdown",
      "metadata": {
        "id": "ffvtjtyDxfRB"
      },
      "source": [
        "Next, we've created a Binary Classifier. This class will let us learn the traits associated with positive and negatively classed movie reviews in order to make predictions on our test set."
      ]
    },
    {
      "cell_type": "code",
      "execution_count": null,
      "metadata": {
        "id": "CGiM8qQiJOBU"
      },
      "outputs": [],
      "source": [
        "######################################################################\n",
        "## Do not edit this block of code.\n",
        "## This defines the classification class which\n",
        "## loads the data and sets up the model.\n",
        "######################################################################\n",
        "\n",
        "class Classifier:\n",
        "\n",
        "    def __init__(self, feature_method, L2_regularization_strength=1.0, min_feature_count=1):\n",
        "        # Initialize variables and set up logistic regression model\n",
        "        self.feature_vocab = {} # Dictionary to store feature vocabulary\n",
        "        self.feature_method = feature_method # Method to extract features from text\n",
        "        self.log_reg = linear_model.LogisticRegression() # Logistic Regression model\n",
        "        self.L2_regularization_strength=L2_regularization_strength # L2 regularization strength\n",
        "        self.min_feature_count=min_feature_count # Minimum count for a feature to be considered\n",
        "\n",
        "        # Process training, development, and test datasets\n",
        "        self.trainX, self.trainY, self.trainOrig = self.process(trainingFile, training=True)\n",
        "        self.devX, self.devY, self.devOrig = self.process(evaluationFile, training=False)\n",
        "        self.testX, _, self.testOrig = self.process(testFile, training=False)\n",
        "\n",
        "    # Read data from file and return as a list of tuples\n",
        "    def load_data(self, filename):\n",
        "        data = []\n",
        "        with open(filename, encoding=\"utf8\") as file:\n",
        "            for line in file:\n",
        "                cols = line.split(\"\\t\")\n",
        "                idd = cols[0]\n",
        "                label = cols[1]\n",
        "                text = cols[2]\n",
        "\n",
        "                data.append((idd, label, text))\n",
        "\n",
        "        return data\n",
        "\n",
        "    # Featurize entire dataset using the specified feature extraction method\n",
        "    def featurize(self, data):\n",
        "        featurized_data = []\n",
        "        for idd, label, text in data:\n",
        "            feats = self.feature_method(text)\n",
        "            featurized_data.append((label, feats))\n",
        "        return featurized_data\n",
        "\n",
        "    # Read dataset and returned featurized representation as sparse matrix + label array\n",
        "    def process(self, dataFile, training = False):\n",
        "        original_data = self.load_data(dataFile)\n",
        "        data = self.featurize(original_data)\n",
        "\n",
        "        # If training, build feature vocabulary and filter features based on minimum count\n",
        "        if training:\n",
        "            fid = 0\n",
        "            feature_doc_count = Counter()\n",
        "            for label, feats in data:\n",
        "                for feat in feats:\n",
        "                    feature_doc_count[feat]+= 1\n",
        "\n",
        "            for feat in feature_doc_count:\n",
        "                if feature_doc_count[feat] >= self.min_feature_count:\n",
        "                    self.feature_vocab[feat] = fid\n",
        "                    fid += 1\n",
        "\n",
        "        F = len(self.feature_vocab)\n",
        "        D = len(data)\n",
        "        X = sparse.dok_matrix((D, F))\n",
        "        Y = [None]*D\n",
        "        for idx, (label, feats) in enumerate(data):\n",
        "            for feat in feats:\n",
        "                if feat in self.feature_vocab:\n",
        "                    X[idx, self.feature_vocab[feat]] = feats[feat]\n",
        "            Y[idx] = label\n",
        "\n",
        "        return X, Y, original_data\n",
        "\n",
        "    def load_test(self, dataFile):\n",
        "        data = self.load_data(dataFile)\n",
        "        data = self.featurize(data)\n",
        "\n",
        "        F = len(self.feature_vocab)\n",
        "        D = len(data)\n",
        "        X = sparse.dok_matrix((D, F))\n",
        "        Y = [None]*D\n",
        "        for idx, (data_id, feats) in enumerate(data):\n",
        "            for feat in feats:\n",
        "                if feat in self.feature_vocab:\n",
        "                    X[idx, self.feature_vocab[feat]] = feats[feat]\n",
        "            Y[idx] = data_id\n",
        "\n",
        "        return X, Y\n",
        "\n",
        "    # Train model and evaluate on held-out data\n",
        "    def evaluate(self):\n",
        "        (D,F) = self.trainX.shape\n",
        "        self.log_reg = linear_model.LogisticRegression(C = self.L2_regularization_strength, max_iter=1000)\n",
        "        self.log_reg.fit(self.trainX, self.trainY)\n",
        "        training_accuracy = self.log_reg.score(self.trainX, self.trainY)\n",
        "        development_accuracy = self.log_reg.score(self.devX, self.devY)\n",
        "        print(\"Method: %s, Features: %s, Train accuracy: %.3f, Dev accuracy: %.3f\" % (self.feature_method.__name__, F, training_accuracy, development_accuracy))\n",
        "\n",
        "\n",
        "    # Predict labels for new data and write the predictions to a CSV file\n",
        "    def predict(self):\n",
        "        predX = self.log_reg.predict(self.testX)\n",
        "\n",
        "        with open(\"%s_%s\" % (self.feature_method.__name__, \"predictions.csv\"), \"w\", encoding=\"utf8\") as out:\n",
        "            writer=csv.writer(out)\n",
        "            writer.writerow([\"Id\", \"Expected\"])\n",
        "            for idx, data_id in enumerate(self.testX):\n",
        "                writer.writerow([self.testOrig[idx][0], predX[idx]])\n",
        "        out.close()\n",
        "\n",
        "    # Method to print top weights for each feature\n",
        "    def printWeights(self, n=10):\n",
        "\n",
        "        reverse_vocab=[None]*len(self.log_reg.coef_[0])\n",
        "        for k in self.feature_vocab:\n",
        "            reverse_vocab[self.feature_vocab[k]]=k\n",
        "\n",
        "        # binary\n",
        "        if len(self.log_reg.classes_) == 2:\n",
        "              weights=self.log_reg.coef_[0]\n",
        "\n",
        "              cat=self.log_reg.classes_[1]\n",
        "              for feature, weight in list(reversed(sorted(zip(reverse_vocab, weights), key = operator.itemgetter(1))))[:n]:\n",
        "                  print(\"%s\\t%.3f\\t%s\" % (cat, weight, feature))\n",
        "              print()\n",
        "\n",
        "              cat=self.log_reg.classes_[0]\n",
        "              for feature, weight in list(sorted(zip(reverse_vocab, weights), key = operator.itemgetter(1)))[:n]:\n",
        "                  print(\"%s\\t%.3f\\t%s\" % (cat, weight, feature))\n",
        "              print()\n",
        "\n",
        "        # multiclass\n",
        "        else:\n",
        "          for i, cat in enumerate(self.log_reg.classes_):\n",
        "\n",
        "              weights=self.log_reg.coef_[i]\n",
        "\n",
        "              for feature, weight in list(reversed(sorted(zip(reverse_vocab, weights), key = operator.itemgetter(1))))[:n]:\n",
        "                  print(\"%s\\t%.3f\\t%s\" % (cat, weight, feature))\n",
        "              print()"
      ]
    },
    {
      "cell_type": "markdown",
      "metadata": {
        "id": "i-yJ5AiSxfRB"
      },
      "source": [
        "## Examples: A Simple Classifier"
      ]
    },
    {
      "cell_type": "markdown",
      "metadata": {
        "id": "nDmfkG782kgo"
      },
      "source": [
        "Let's create an initial classifier based on a really simple feature using a dictionary:\n",
        "\n",
        "* if the abstract contains the words \"love\" or \"like\", the `contains_positive_word` feature will fire, and\n",
        "* if it contains either \"hate\" or \"dislike\", the `contains_negative_word` will fire.  \n",
        "\n",
        "Note how we use `nltk.word_tokenize` to tokenize the text into its discrete words (the documentation for which can be found [here](https://www.nltk.org/api/nltk.tokenize.html))."
      ]
    },
    {
      "cell_type": "code",
      "execution_count": null,
      "metadata": {
        "id": "xCq1bL3e2jUj"
      },
      "outputs": [],
      "source": [
        "def simple_featurize(text):\n",
        "    feats = {}\n",
        "    words = nltk.word_tokenize(text)\n",
        "\n",
        "    for word in words:\n",
        "        word=word.lower()\n",
        "        if word == \"love\" or word == \"like\":\n",
        "            feats[\"contains_positive_word\"] = 1\n",
        "        if word == \"hate\" or word == \"dislike\":\n",
        "            feats[\"contains_negative_word\"] = 1\n",
        "\n",
        "    return feats\n"
      ]
    },
    {
      "cell_type": "markdown",
      "metadata": {
        "id": "P3PQdN9r3Ujz"
      },
      "source": [
        "Now let's see how that feature performs on the development data.\n",
        "\n",
        "Note the `L2_regularization_strength` parameter specifies the strength of the L2 regularizer **(values closer to 0 = stronger regularization)**, and `min_feature_count` specifies how many data points need to contain a feature for it to be passed into the model as a feature. Both are ways to prevent the model from overfitting and achieve higher performance."
      ]
    },
    {
      "cell_type": "code",
      "execution_count": null,
      "metadata": {
        "id": "Jnqjxd6fKPiP"
      },
      "outputs": [],
      "source": [
        "simple_classifier = Classifier(simple_featurize, L2_regularization_strength=1.0, min_feature_count=1)\n",
        "simple_classifier.evaluate()"
      ]
    },
    {
      "cell_type": "markdown",
      "metadata": {
        "id": "hO4XQzU3PdeU"
      },
      "source": [
        "So we've created a classifier. But is its accuracy score any good?  Let's calculate the accuracy of a \"majority classifier\" to provide some context. This determines the most-represented (majority) class in the training data, and then predicts every test point to be this class."
      ]
    },
    {
      "cell_type": "code",
      "execution_count": null,
      "metadata": {
        "id": "8t--LfOjPj7T"
      },
      "outputs": [],
      "source": [
        "def majority_class(trainY, devY):\n",
        "    labelCounts=Counter()\n",
        "    for label in trainY:\n",
        "        labelCounts[label]+=1\n",
        "    majority_class=labelCounts.most_common(1)[0][0]\n",
        "\n",
        "    correct=0.\n",
        "    for label in devY:\n",
        "        if label == majority_class:\n",
        "            correct+=1\n",
        "\n",
        "    print(\"Majority class: %s\\tDev accuracy: %.3f\" % (majority_class, correct/len(devY)))\n",
        "majority_class(simple_classifier.trainY, simple_classifier.devY)"
      ]
    },
    {
      "cell_type": "markdown",
      "metadata": {
        "id": "WUanyrW9xfRC"
      },
      "source": [
        "The feature we created in `simple_featurize`, evidently, doesn't have a whole lot of legs. In the next portion of the homework, you'll be designing a few features of your own in the hopes of achieving the highest accuracy possible."
      ]
    },
    {
      "cell_type": "markdown",
      "metadata": {
        "id": "wIEkYOWO5ClC"
      },
      "source": [
        "## Deliverable 1: Exploring Features (60 points)\n",
        "\n",
        "Your job in this homework is to implement a binary bag-of-words model (i.e., one that assigns a feature value of 1 to each word type that is present in the text); and to brainstorm **3 additional** distinct classes of features, justify why they might help improve the performance *over a bag of words* for this task, implement them in code, and then assess their independent performance on the development data.\n",
        "\n",
        "To show your work: describe your new features and report their performance in the table below; implement the features in the specified `feature1`, `feature2`, and `feature3` functions, and execute each respective classifier to show its performance. **Double click to edit the table below in markdown mode**.\n",
        "\n",
        "|Feature|Why should it work? (50 words each)|Dev set performance|\n",
        "|---|---|---|\n",
        "|Bag of words||\n",
        "|Feature 1||\n",
        "|Feature 2||\n",
        "|Feature 3||\n",
        "\n",
        "**You are not graded on your performance, but your justification for why it *should* perform better than a bag of words should be defensible**. Consider the type of data you are working with: what do you look for when writing/reading a movie review?"
      ]
    },
    {
      "cell_type": "markdown",
      "metadata": {
        "id": "uqKwVYVsxfRC"
      },
      "source": [
        "### Implement Bag-of-Words"
      ]
    },
    {
      "cell_type": "code",
      "execution_count": null,
      "metadata": {
        "id": "vVl1zAREekC3"
      },
      "outputs": [],
      "source": [
        "######################################################################\n",
        "## For `bag_of_words`, please do not use external packages/libraries\n",
        "## Only excepted external libraries are:\n",
        "## - nltk\n",
        "######################################################################\n",
        "\n",
        "def bag_of_words(text):\n",
        "    # Here the `feats` dict should contain the features -- the key should be the feature name,\n",
        "    # and the value is the feature value.  See `simple_featurize` for an example.\n",
        "\n",
        "    feats = {}\n",
        "    # BEGIN SOLUTION\n",
        "\n",
        "    # END SOLUTION\n",
        "\n",
        "    return feats"
      ]
    },
    {
      "cell_type": "code",
      "execution_count": null,
      "metadata": {
        "id": "_3AJ5qMBeqmL"
      },
      "outputs": [],
      "source": [
        "######################################################################\n",
        "## Do not edit this block of code, except for the L2_regularization_strength and min_feature_count parameters\n",
        "######################################################################\n",
        "\n",
        "bow_classifier = Classifier(bag_of_words, L2_regularization_strength=1.0, min_feature_count=1)\n",
        "bow_classifier.evaluate()"
      ]
    },
    {
      "cell_type": "markdown",
      "metadata": {
        "id": "3kbt6iGpxfRC"
      },
      "source": [
        "### Implement Your Original Features\n",
        "\n",
        "**Note**: External dictionaries such as [AFINN](https://pypi.org/project/afinn) or [LIWC](https://pypi.org/project/liwc/) might be helpful here."
      ]
    },
    {
      "cell_type": "code",
      "execution_count": null,
      "metadata": {
        "id": "ocPMYhIt4BX0"
      },
      "outputs": [],
      "source": [
        "def feature1(text):\n",
        "    # Here the `feats` dict should contain the features -- the key should be the feature name,\n",
        "    # and the value is the feature value.  See `simple_featurize` for an example.\n",
        "\n",
        "    feats = {}\n",
        "    # BEGIN SOLUTION\n",
        "    feats = {\"test\" : 1} # Change this line\n",
        "\n",
        "    # END SOLUTION\n",
        "    return feats"
      ]
    },
    {
      "cell_type": "code",
      "execution_count": null,
      "metadata": {
        "id": "-MAwRwbQ7lVw"
      },
      "outputs": [],
      "source": [
        "######################################################################\n",
        "## Do not edit this block of code, except for the L2_regularization_strength and min_feature_count parameters\n",
        "######################################################################\n",
        "\n",
        "classifier1 = Classifier(feature1, L2_regularization_strength=1.0, min_feature_count=1)\n",
        "classifier1.evaluate()"
      ]
    },
    {
      "cell_type": "code",
      "execution_count": null,
      "metadata": {
        "id": "LNlQyjEB4Bwt"
      },
      "outputs": [],
      "source": [
        "def feature2(text):\n",
        "    # Here the `feats` dict should contain the features -- the key should be the feature name,\n",
        "    # and the value is the feature value.  See `simple_featurize` for an example.\n",
        "\n",
        "    feats = {}\n",
        "    # BEGIN SOLUTION\n",
        "    feats = {\"test\" : 1} # Change this line\n",
        "\n",
        "    # END SOLUTION\n",
        "    return feats"
      ]
    },
    {
      "cell_type": "code",
      "execution_count": null,
      "metadata": {
        "id": "JgpuykF67oWZ"
      },
      "outputs": [],
      "source": [
        "######################################################################\n",
        "## Do not edit this block of code, except for the L2_regularization_strength and min_feature_count parameters\n",
        "######################################################################\n",
        "\n",
        "classifier2 = Classifier(feature2, L2_regularization_strength=1.0, min_feature_count=1)\n",
        "classifier2.evaluate()"
      ]
    },
    {
      "cell_type": "code",
      "execution_count": null,
      "metadata": {
        "id": "FmJKucgn4CEg"
      },
      "outputs": [],
      "source": [
        "def feature3(text):\n",
        "    # Here the `feats` dict should contain the features -- the key should be the feature name,\n",
        "    # and the value is the feature value.  See `simple_featurize` for an example.\n",
        "\n",
        "    feats = {}\n",
        "    # BEGIN SOLUTION\n",
        "    feats = {\"test\" : 1} # Change this line\n",
        "\n",
        "    # END SOLUTION\n",
        "    return feats"
      ]
    },
    {
      "cell_type": "code",
      "execution_count": null,
      "metadata": {
        "id": "g_f--utb7q4l"
      },
      "outputs": [],
      "source": [
        "######################################################################\n",
        "## Do not edit this block of code, except for the L2_regularization_strength and min_feature_count parameters\n",
        "######################################################################\n",
        "\n",
        "classifier3 = Classifier(feature3, L2_regularization_strength=1.0, min_feature_count=1)\n",
        "classifier3.evaluate()"
      ]
    },
    {
      "cell_type": "markdown",
      "metadata": {
        "id": "Dg2J1BLgatMP"
      },
      "source": [
        "## Deliverable 2: Final Classifier (20 points)\n",
        "\n",
        "The two cells in \"Combine your features\" will generate a file named `combiner_function_predictions.csv`. **Download this file (using e.g. the file manager on the left panel in Colab) and submit this to GradeScope along with your notebook**\n",
        "\n",
        "Your score is computed by the following equation: `min(20.0, 200 * max(test_accuracy - 0.69, 0.0))`. **That is, you receive full credits with test accuracy >= 0.79 and no credits with test accuracy <= 0.69**.\n",
        "\n",
        "The 5 students with the highest performance (revealed after the submission deadline) will receive extra credit for this assignment.\n",
        "\n",
        "Please do not change the auto-generated filename!"
      ]
    },
    {
      "cell_type": "markdown",
      "metadata": {
        "id": "wWwjhLnMxfRD"
      },
      "source": [
        "### Combine your features"
      ]
    },
    {
      "cell_type": "markdown",
      "metadata": {
        "id": "XEpK5LyMgv5c"
      },
      "source": [
        "Next, let's combine any or all the features you have developed into one big model and make predictions on the test data. There is no exact number/threshold we're looking for, accuracy-wise, but the combiner function should *generally* have a higher accuracy than BoW on its own (assuming your features are adding additional information beyond what BoW is adding).\n",
        "\n",
        "You don't need to edit the following cell, unless you want to change which features are handed off to the \"combined\" model."
      ]
    },
    {
      "cell_type": "code",
      "execution_count": null,
      "metadata": {
        "id": "jxKmEqI5JY71"
      },
      "outputs": [],
      "source": [
        "def combiner_function(text):\n",
        "\n",
        "    # Here the `all_feats` dict should contain the features -- the key should be the feature name,\n",
        "    # and the value is the feature value.  See `simple_featurize` for an example.\n",
        "    # at the moment, all 4 of: bag of words and your 3 original features are handed off to the combined model\n",
        "    # update the values within [bag_of_words, feature1, feature2, feature3] to change this.\n",
        "\n",
        "    all_feats={}\n",
        "    for feature in [bag_of_words, feature1, feature2, feature3]:\n",
        "        all_feats.update(feature(text))\n",
        "    return all_feats"
      ]
    },
    {
      "cell_type": "code",
      "execution_count": null,
      "metadata": {
        "id": "D-tRUFTIdAqT"
      },
      "outputs": [],
      "source": [
        "######################################################################\n",
        "## Do not edit this block of code, except for the L2_regularization_strength and min_feature_count parameters\n",
        "######################################################################\n",
        "\n",
        "big_classifier = Classifier(combiner_function, L2_regularization_strength=1.0, min_feature_count=1)\n",
        "big_classifier.evaluate()\n",
        "\n",
        "#generate .csv file with prediction output on test data\n",
        "big_classifier.predict()"
      ]
    },
    {
      "cell_type": "markdown",
      "metadata": {
        "id": "WNFfc0CexfRD"
      },
      "source": [
        "## Deliverable 3: Analyze and Tune Your Classifier (5 points)\n",
        "\n",
        "\n",
        "Below you will find several ways in which you can interrogate your model to get ideas on ways to improve its performance. **Section 1 to 3 are for exploration. The only deliverable is in section 4.**"
      ]
    },
    {
      "cell_type": "markdown",
      "metadata": {
        "id": "8fRqlvAyxfRD"
      },
      "source": [
        "### 1. Confusion Matrix\n",
        "\n",
        "First, let's look at the confusion matrix of its predictions (where we can compare the true labels with the predicted labels). What kinds of mistakes is it making? (While this is mainly helpful in the context of multiclass classification, we can still see if there's a bias toward predicting a specific class in the binary setting as well). **No written response required.**"
      ]
    },
    {
      "cell_type": "code",
      "execution_count": null,
      "metadata": {
        "id": "7ulxd1TosIMV"
      },
      "outputs": [],
      "source": [
        "def print_confusion(classifier):\n",
        "    fig, ax = plt.subplots(figsize=(10,10))\n",
        "\n",
        "    # Compute the confusion matrix\n",
        "    y_pred = classifier.log_reg.predict(classifier.devX)\n",
        "    cm = confusion_matrix(classifier.devY, y_pred)\n",
        "\n",
        "    # Use ConfusionMatrixDisplay to plot\n",
        "    disp = ConfusionMatrixDisplay(confusion_matrix=cm)\n",
        "    disp.plot(ax=ax, xticks_rotation=\"vertical\", values_format=\"d\")\n",
        "\n",
        "    plt.show()\n",
        "\n",
        "print_confusion(big_classifier)\n"
      ]
    },
    {
      "cell_type": "markdown",
      "metadata": {
        "id": "zPhH4flIuEbx"
      },
      "source": [
        "### 2. Feature Weights\n",
        "\n",
        "Next, let's look at the features that are most important for each of the classes (ranked by how strong their corresponding coefficient is). Do the features you are defining help in the ways you think they should?  Do sets of successful features suggests others, or complementary features that may provide a different view on the data? **No written response required.**"
      ]
    },
    {
      "cell_type": "code",
      "execution_count": null,
      "metadata": {
        "id": "IAyGuXIi9pqe"
      },
      "outputs": [],
      "source": [
        "big_classifier.printWeights(n=25)"
      ]
    },
    {
      "cell_type": "markdown",
      "metadata": {
        "id": "e80DUsSXu7h9"
      },
      "source": [
        "### 3. Misclassified Data Points\n",
        "\n",
        "Next, let's look at the individual data points that are the hardest to classify correctly. Does it suggest any features you might create to disentangle them? **No written response required.**"
      ]
    },
    {
      "cell_type": "code",
      "execution_count": null,
      "metadata": {
        "id": "I4uTzwV99pqe"
      },
      "outputs": [],
      "source": [
        "def analyze(classifier):\n",
        "\n",
        "    probs=classifier.log_reg.predict_proba(classifier.devX)\n",
        "    predicts=classifier.log_reg.predict(classifier.devX)\n",
        "\n",
        "    classes={}\n",
        "    for idx, lab in enumerate(classifier.log_reg.classes_):\n",
        "        classes[lab]=idx\n",
        "\n",
        "    mistakes={}\n",
        "    for i in range(len(probs)):\n",
        "        if predicts[i] != classifier.devY[i]:\n",
        "            predicted_lab_idx=classes[predicts[i]]\n",
        "            mistakes[i]=probs[i][predicted_lab_idx]\n",
        "\n",
        "    frame=[]\n",
        "    sorted_x = sorted(mistakes.items(), key=operator.itemgetter(1), reverse=True)\n",
        "    for k, v in sorted_x:\n",
        "        idd=classifier.devOrig[k][0]\n",
        "        text=classifier.devOrig[k][2]\n",
        "        frame.append([idd, v, classifier.devY[k], predicts[k], text])\n",
        "\n",
        "    df=pd.DataFrame(frame, columns=[\"id\", \"P(predicted class confidence)\", \"Human label\", \"Prediction\", \"Text\"])\n",
        "\n",
        "    with option_context('display.max_colwidth', 400):\n",
        "        display(df.head(n=20))\n",
        "\n",
        "analyze(big_classifier)"
      ]
    },
    {
      "cell_type": "markdown",
      "metadata": {
        "id": "E_rqigrjxfRH"
      },
      "source": [
        "### 4. Hyperparameter Tuning\n",
        "\n",
        "An important step in optimizing models is hyperparameter tuning. Hyperparameter tuning enables us to adjust the hyperparameters of our model, specifically those not learned from the data, to optimize its performance. Below, you will use K-fold cross-validation on the training data to get an estimate of your model's performance. For this deliverable, **replace `classifier` with the classifier you want to improve. Then, complete `param_grid` for `C` (values closer to 0 = stronger regularization)** to find which L2 regularization strength improves your model the most. For more information, please consult [sklearn.linear_model.LogisticRegression](https://scikit-learn.org/stable/modules/generated/sklearn.linear_model.LogisticRegression.html).\n",
        "\n",
        "*Note: we are unable to hyperparameter tune `min_feature_size` easily with the scikitlearn API (we hard coded `min_feature_size` in the `Classifier` class). Please try out different values manually.*"
      ]
    },
    {
      "cell_type": "code",
      "execution_count": null,
      "metadata": {
        "id": "FIYOH5JPxfRH"
      },
      "outputs": [],
      "source": [
        "# import libraries\n",
        "from sklearn.model_selection import KFold, GridSearchCV\n",
        "\n",
        "# Parameter Grid for L2 regularization strength\n",
        "# BEGIN SOLUTION\n",
        "param_grid = {'C': ...}\n",
        "# END SOLUTION\n",
        "\n",
        "# initialize KFold object\n",
        "kf = KFold(n_splits=5, shuffle=True, random_state=42)\n",
        "\n",
        "classifier = big_classifier # TODO: Change to the classifier you want to hyperparameter tune\n",
        "\n",
        "grid_search = GridSearchCV(estimator= classifier.log_reg, param_grid=param_grid, scoring='accuracy', cv=kf)\n",
        "grid_search.fit(classifier.trainX, classifier.trainY)\n",
        "best_params = grid_search.best_params_\n",
        "\n",
        "# Which parameters performed best?\n",
        "print(best_params)"
      ]
    },
    {
      "cell_type": "markdown",
      "metadata": {
        "id": "eCguu4DlxfRH"
      },
      "source": [
        "## Deliverable 4: Short Answer (15 points)\n",
        "\n",
        "Give a real-world example of where it is important to capture the percentage of false positives the model predicts and another example of a case where it is important to capture false negatives. Why might these measures be more valuable than finding the model's accuracy? (~50 words)"
      ]
    },
    {
      "cell_type": "markdown",
      "metadata": {
        "id": "owUsgFg5xfRH"
      },
      "source": [
        "*Double click to edit*"
      ]
    }
  ],
  "metadata": {
    "colab": {
      "provenance": []
    },
    "kernelspec": {
      "display_name": "Python 3 (ipykernel)",
      "language": "python",
      "name": "python3"
    },
    "language_info": {
      "codemirror_mode": {
        "name": "ipython",
        "version": 3
      },
      "file_extension": ".py",
      "mimetype": "text/x-python",
      "name": "python",
      "nbconvert_exporter": "python",
      "pygments_lexer": "ipython3",
      "version": "3.10.13"
    }
  },
  "nbformat": 4,
  "nbformat_minor": 0
}